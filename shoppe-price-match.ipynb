{
 "cells": [
  {
   "cell_type": "markdown",
   "metadata": {},
   "source": [
    "# Dados e bibliotecas"
   ]
  },
  {
   "cell_type": "markdown",
   "metadata": {},
   "source": [
    "obs: caminho das pastas seguindo ambiente kaggle do desafio escolhido"
   ]
  },
  {
   "cell_type": "code",
   "execution_count": null,
   "metadata": {
    "_cell_guid": "b1076dfc-b9ad-4769-8c92-a6c4dae69d19",
    "_uuid": "8f2839f25d086af736a60e9eeb907d3b93b6e0e5",
    "execution": {
     "iopub.execute_input": "2025-04-01T13:41:06.451826Z",
     "iopub.status.busy": "2025-04-01T13:41:06.451309Z",
     "iopub.status.idle": "2025-04-01T13:41:06.456930Z",
     "shell.execute_reply": "2025-04-01T13:41:06.455889Z",
     "shell.execute_reply.started": "2025-04-01T13:41:06.451762Z"
    },
    "trusted": true
   },
   "outputs": [],
   "source": [
    "import numpy as np\n",
    "import pandas as pd\n",
    "from sklearn.feature_extraction.text import TfidfVectorizer"
   ]
  },
  {
   "cell_type": "code",
   "execution_count": null,
   "metadata": {
    "execution": {
     "iopub.execute_input": "2025-04-01T13:41:06.458595Z",
     "iopub.status.busy": "2025-04-01T13:41:06.458242Z",
     "iopub.status.idle": "2025-04-01T13:41:06.603115Z",
     "shell.execute_reply": "2025-04-01T13:41:06.601970Z",
     "shell.execute_reply.started": "2025-04-01T13:41:06.458562Z"
    },
    "trusted": true
   },
   "outputs": [],
   "source": [
    "train = pd.read_csv('/kaggle/input/shopee-product-matching/train.csv')"
   ]
  },
  {
   "cell_type": "code",
   "execution_count": 14,
   "metadata": {
    "execution": {
     "iopub.execute_input": "2025-04-01T13:41:06.689533Z",
     "iopub.status.busy": "2025-04-01T13:41:06.689180Z",
     "iopub.status.idle": "2025-04-01T13:41:06.739256Z",
     "shell.execute_reply": "2025-04-01T13:41:06.738011Z",
     "shell.execute_reply.started": "2025-04-01T13:41:06.689492Z"
    },
    "trusted": true
   },
   "outputs": [],
   "source": [
    "# grupos do mesmo produto para análise de desempenho no treinamento\n",
    "tmp = train.groupby('label_group').posting_id.agg('unique').to_dict()\n",
    "train['target'] = train.label_group.map(tmp)"
   ]
  },
  {
   "cell_type": "markdown",
   "metadata": {},
   "source": [
    "# Funções"
   ]
  },
  {
   "cell_type": "code",
   "execution_count": 18,
   "metadata": {
    "execution": {
     "iopub.execute_input": "2025-04-01T13:43:19.411683Z",
     "iopub.status.busy": "2025-04-01T13:43:19.411350Z",
     "iopub.status.idle": "2025-04-01T13:43:19.418139Z",
     "shell.execute_reply": "2025-04-01T13:43:19.416626Z",
     "shell.execute_reply.started": "2025-04-01T13:43:19.411657Z"
    },
    "trusted": true
   },
   "outputs": [],
   "source": [
    "import string\n",
    "import re #replace\n",
    " \n",
    "def removePunctuation(text):\n",
    "    punc_translator = str.maketrans(string.punctuation, ' '*len(string.punctuation))\n",
    "    return text.translate(punc_translator)\n",
    "\n",
    "def removeMedidas(text):\n",
    "    return re.sub(r'kg|cm|gr|ml|xl', \"\", text)\n",
    "\n",
    "\n",
    "def removeNumer(text):\n",
    "    return re.sub(r\"^[\\d\\s]+|[\\d][.\\d]+|[\\d]\", \"\", text)\n",
    "\n",
    "def removeSpecialCaracter(text):\n",
    "    return re.sub(r\"^[@.,\\\\\\/\\+\\-\\|\\[\\]]!+()\", \"\", text)\n",
    "\n",
    "def removeSpace(text):\n",
    "    return \" \".join(text.split())"
   ]
  },
  {
   "cell_type": "code",
   "execution_count": 19,
   "metadata": {
    "execution": {
     "iopub.execute_input": "2025-04-01T13:43:22.130902Z",
     "iopub.status.busy": "2025-04-01T13:43:22.130549Z",
     "iopub.status.idle": "2025-04-01T13:43:22.136057Z",
     "shell.execute_reply": "2025-04-01T13:43:22.134943Z",
     "shell.execute_reply.started": "2025-04-01T13:43:22.130875Z"
    },
    "trusted": true
   },
   "outputs": [],
   "source": [
    "def getMetric(col):\n",
    "    def f1score(row):\n",
    "        n = len( np.intersect1d(row.target,row[col]) )\n",
    "        return 2*n / (len(row.target)+len(row[col]))\n",
    "    return f1score"
   ]
  },
  {
   "cell_type": "code",
   "execution_count": null,
   "metadata": {
    "execution": {
     "iopub.execute_input": "2025-04-01T13:43:23.488428Z",
     "iopub.status.busy": "2025-04-01T13:43:23.488052Z",
     "iopub.status.idle": "2025-04-01T13:43:23.493371Z",
     "shell.execute_reply": "2025-04-01T13:43:23.492100Z",
     "shell.execute_reply.started": "2025-04-01T13:43:23.488391Z"
    },
    "trusted": true
   },
   "outputs": [],
   "source": [
    "def formato_submissao(row):\n",
    "    x = np.concatenate([row['predicao_tfidf'], row['predicao_hash']])\n",
    "    return ' '.join( np.unique(x))"
   ]
  },
  {
   "cell_type": "markdown",
   "metadata": {},
   "source": [
    "# TFIDF"
   ]
  },
  {
   "cell_type": "markdown",
   "metadata": {},
   "source": [
    "Predição feita através da distância entre vetores das palavras"
   ]
  },
  {
   "cell_type": "code",
   "execution_count": null,
   "metadata": {
    "execution": {
     "execution_failed": "2025-04-01T14:59:57.742Z"
    },
    "trusted": true
   },
   "outputs": [],
   "source": [
    "# Limpeza do texto\n",
    "\n",
    "train['title_clean'] = train['title'].str.lower()\n",
    "train['title_clean'] = train['title_clean'].apply(removePunctuation)\n",
    "train['title_clean'] = train['title_clean'].map(removeMedidas)\n",
    "train['title_clean'] = train['title_clean'].apply(removeNumer)\n",
    "train['title_clean'] = train['title_clean'].apply(removeSpecialCaracter)\n",
    "train['title_clean'] = train['title_clean'].apply(removeNumer)\n",
    "train['title_clean'] = train['title_clean'].apply(removeSpace)"
   ]
  },
  {
   "cell_type": "code",
   "execution_count": null,
   "metadata": {
    "execution": {
     "execution_failed": "2025-04-01T14:59:57.742Z"
    },
    "trusted": true
   },
   "outputs": [],
   "source": [
    "tfidf_vec = TfidfVectorizer(stop_words='english', \n",
    "                            binary=True, \n",
    "                            max_features=50000)\n",
    "text_embeddings = tfidf_vec.fit_transform(train.title_clean).toarray()"
   ]
  },
  {
   "cell_type": "markdown",
   "metadata": {},
   "source": [
    "Comparação de distância por lote por causa da memória "
   ]
  },
  {
   "cell_type": "code",
   "execution_count": null,
   "metadata": {
    "execution": {
     "execution_failed": "2025-04-01T14:59:57.743Z"
    },
    "trusted": true
   },
   "outputs": [],
   "source": [
    "predicao_idf = []\n",
    "CHUNK = 3500\n",
    "\n",
    "\n",
    "CTS = len(train)//CHUNK\n",
    "if len(train)%CHUNK!=0: CTS += 1\n",
    "for j in range( CTS ):\n",
    "    \n",
    "    a = j*CHUNK\n",
    "    b = (j+1)*CHUNK\n",
    "    b = min(b,len(train))\n",
    "    \n",
    "    # COSINE SIMILARITY DISTANCE\n",
    "    cts = np.dot( text_embeddings, text_embeddings[a:b].T).T\n",
    "    \n",
    "    for k in range(b-a):\n",
    "        IDX = np.where(cts[k,]>0.7)[0]\n",
    "        filtrar_vizinhos = train.iloc[IDX].posting_id.values\n",
    "        predicao_idf.append(filtrar_vizinhos)"
   ]
  },
  {
   "cell_type": "code",
   "execution_count": null,
   "metadata": {
    "execution": {
     "execution_failed": "2025-04-01T14:59:57.744Z"
    },
    "trusted": true
   },
   "outputs": [],
   "source": [
    "# adição ao df\n",
    "train['predicao_tfidf'] = predicao_idf\n",
    "train.head(5)"
   ]
  },
  {
   "cell_type": "markdown",
   "metadata": {},
   "source": [
    "# Hash"
   ]
  },
  {
   "cell_type": "markdown",
   "metadata": {},
   "source": [
    "Existem imagens com o mesmo hash na coluna image_hash"
   ]
  },
  {
   "cell_type": "code",
   "execution_count": null,
   "metadata": {
    "execution": {
     "execution_failed": "2025-04-01T14:59:57.744Z"
    },
    "trusted": true
   },
   "outputs": [],
   "source": [
    "tmp = train.groupby('image_phash').posting_id.agg('unique').to_dict()\n",
    "train['predicao_hash'] = train.image_phash.map(tmp)\n",
    "train.head()"
   ]
  },
  {
   "cell_type": "markdown",
   "metadata": {},
   "source": [
    "# Avaliação do treinamento"
   ]
  },
  {
   "cell_type": "code",
   "execution_count": null,
   "metadata": {
    "execution": {
     "execution_failed": "2025-04-01T14:59:57.746Z"
    },
    "trusted": true
   },
   "outputs": [],
   "source": [
    "print(\"tfidf\", train.apply(getMetric('predicao_tfidf'),axis=1).mean())"
   ]
  },
  {
   "cell_type": "code",
   "execution_count": null,
   "metadata": {
    "execution": {
     "execution_failed": "2025-04-01T14:59:57.746Z"
    },
    "trusted": true
   },
   "outputs": [],
   "source": [
    "print(\"hash\", train.apply(getMetric('predicao_hash'),axis=1).mean())"
   ]
  },
  {
   "cell_type": "markdown",
   "metadata": {},
   "source": [
    "# Aplicar classificação no dado de teste"
   ]
  },
  {
   "cell_type": "code",
   "execution_count": 39,
   "metadata": {
    "execution": {
     "iopub.execute_input": "2025-04-01T13:51:04.303178Z",
     "iopub.status.busy": "2025-04-01T13:51:04.302683Z",
     "iopub.status.idle": "2025-04-01T13:51:04.317596Z",
     "shell.execute_reply": "2025-04-01T13:51:04.315698Z",
     "shell.execute_reply.started": "2025-04-01T13:51:04.303144Z"
    },
    "trusted": true
   },
   "outputs": [],
   "source": [
    "test = pd.read_csv('/kaggle/input/shopee-product-matching/test.csv')"
   ]
  },
  {
   "cell_type": "markdown",
   "metadata": {},
   "source": [
    "## TFIDF"
   ]
  },
  {
   "cell_type": "code",
   "execution_count": null,
   "metadata": {
    "execution": {
     "execution_failed": "2025-04-01T14:59:57.746Z"
    },
    "trusted": true
   },
   "outputs": [],
   "source": [
    "# limpeza do texto\n",
    "test['title_clean'] = test['title'].str.lower()\n",
    "test['title_clean'] = test['title_clean'].apply(removePunctuation)\n",
    "test['title_clean'] = test['title_clean'].map(removeMedidas)\n",
    "test['title_clean'] = test['title_clean'].apply(removeNumer)\n",
    "test['title_clean'] = test['title_clean'].apply(removeSpecialCaracter)\n",
    "test['title_clean'] = test['title_clean'].apply(removeNumer)\n",
    "test['title_clean'] = test['title_clean'].apply(removeSpace)"
   ]
  },
  {
   "cell_type": "code",
   "execution_count": null,
   "metadata": {
    "execution": {
     "execution_failed": "2025-04-01T14:59:57.746Z"
    },
    "trusted": true
   },
   "outputs": [],
   "source": [
    "# tfidf\n",
    "text_embeddings = tfidf_vec.transform(test.title_clean).toarray()"
   ]
  },
  {
   "cell_type": "code",
   "execution_count": null,
   "metadata": {
    "execution": {
     "execution_failed": "2025-04-01T14:59:57.747Z"
    },
    "trusted": true
   },
   "outputs": [],
   "source": [
    "predicao_idf = []\n",
    "CHUNK = 3500\n",
    "\n",
    "\n",
    "CTS = len(test)//CHUNK\n",
    "if len(test)%CHUNK!=0: CTS += 1\n",
    "for j in range( CTS ):\n",
    "    \n",
    "    a = j*CHUNK\n",
    "    b = (j+1)*CHUNK\n",
    "    b = min(b,len(test))\n",
    "    \n",
    "    # COSINE SIMILARITY DISTANCE\n",
    "    cts = np.dot( text_embeddings, text_embeddings[a:b].T).T\n",
    "    \n",
    "    for k in range(b-a):\n",
    "        IDX = np.where(cts[k,]>0.7)[0]\n",
    "        filtrar_vizinhos = test.iloc[IDX].posting_id.values\n",
    "        predicao_idf.append(filtrar_vizinhos)"
   ]
  },
  {
   "cell_type": "code",
   "execution_count": null,
   "metadata": {
    "execution": {
     "execution_failed": "2025-04-01T14:59:57.747Z"
    },
    "trusted": true
   },
   "outputs": [],
   "source": [
    "# adição ao df\n",
    "test['predicao_tfidf'] = predicao_idf\n",
    "test.head(5)"
   ]
  },
  {
   "cell_type": "markdown",
   "metadata": {},
   "source": [
    "## Hash"
   ]
  },
  {
   "cell_type": "code",
   "execution_count": null,
   "metadata": {
    "execution": {
     "execution_failed": "2025-04-01T14:59:57.748Z"
    },
    "trusted": true
   },
   "outputs": [],
   "source": [
    "# classificação por hash\n",
    "tmp = test.groupby('image_phash').posting_id.agg('unique').to_dict()\n",
    "test['predicao_hash'] = test.image_phash.map(tmp)\n",
    "test.head()"
   ]
  },
  {
   "cell_type": "markdown",
   "metadata": {},
   "source": [
    "# Formatação para arquivo de envio"
   ]
  },
  {
   "cell_type": "markdown",
   "metadata": {},
   "source": [
    "Nesse tipo de competição, necessário importar o arquivo de teste e gerar o arquivo de submissão com as previsões no próprio código. Durante a submissão, o arquivo de teste é substituído com o verdadeiro conjunto de teste."
   ]
  },
  {
   "cell_type": "code",
   "execution_count": null,
   "metadata": {
    "execution": {
     "execution_failed": "2025-04-01T14:59:57.748Z"
    },
    "trusted": true
   },
   "outputs": [],
   "source": [
    "test['matches'] = test.apply(formato_submissao, axis = 1)"
   ]
  },
  {
   "cell_type": "code",
   "execution_count": null,
   "metadata": {
    "execution": {
     "execution_failed": "2025-04-01T14:59:57.749Z"
    },
    "trusted": true
   },
   "outputs": [],
   "source": [
    "sample = pd.read_csv('/kaggle/input/shopee-product-matching/sample_submission.csv') "
   ]
  },
  {
   "cell_type": "code",
   "execution_count": null,
   "metadata": {
    "execution": {
     "execution_failed": "2025-04-01T14:59:57.750Z"
    },
    "trusted": true
   },
   "outputs": [],
   "source": [
    "sample = test[['posting_id','matches']]"
   ]
  },
  {
   "cell_type": "code",
   "execution_count": null,
   "metadata": {
    "execution": {
     "execution_failed": "2025-04-01T14:59:57.750Z"
    },
    "trusted": true
   },
   "outputs": [],
   "source": [
    "sample.to_csv(f'/kaggle/working/submission.csv',mode='a',index=False,header=True)\n",
    "\n",
    "sub = pd.read_csv('submission.csv')\n",
    "sub.head(6)"
   ]
  }
 ],
 "metadata": {
  "kaggle": {
   "accelerator": "none",
   "dataSources": [
    {
     "databundleVersionId": 1878097,
     "isSourceIdPinned": false,
     "sourceId": 24286,
     "sourceType": "competition"
    },
    {
     "isSourceIdPinned": true,
     "modelId": 285040,
     "modelInstanceId": 263943,
     "sourceId": 311211,
     "sourceType": "modelInstanceVersion"
    }
   ],
   "dockerImageVersionId": 30918,
   "isGpuEnabled": false,
   "isInternetEnabled": false,
   "language": "python",
   "sourceType": "notebook"
  },
  "kernelspec": {
   "display_name": "Python 3",
   "language": "python",
   "name": "python3"
  },
  "language_info": {
   "codemirror_mode": {
    "name": "ipython",
    "version": 3
   },
   "file_extension": ".py",
   "mimetype": "text/x-python",
   "name": "python",
   "nbconvert_exporter": "python",
   "pygments_lexer": "ipython3",
   "version": "3.10.12"
  }
 },
 "nbformat": 4,
 "nbformat_minor": 4
}
